{
  "nbformat": 4,
  "nbformat_minor": 0,
  "metadata": {
    "colab": {
      "provenance": []
    },
    "kernelspec": {
      "name": "python3",
      "display_name": "Python 3"
    },
    "language_info": {
      "name": "python"
    }
  },
  "cells": [
    {
      "cell_type": "markdown",
      "source": [
        "1. What is the difference between interpreted and compiled languages ?\n",
        " ANS : Compiled Languages\n",
        "Examples: C, C++, Rust, Go\n",
        "Code is translated all at once by a compiler into machine code (an executable).\n",
        "Faster execution because the program is already translated before running.\n",
        "Errors are caught during compilation (before running the program).\n",
        "Requires a separate compilation step before running.\n",
        "\n",
        " Interpreted Languages\n",
        "Examples: Python, JavaScript, Ruby\n",
        "Code is translated and executed line by line by an interpreter at runtime.\n",
        "Slower execution, since translation happens as the program runs.\n",
        "Errors show up during execution, not before.\n",
        "Easier to test and debug small parts quickly without compiling.\n"
      ],
      "metadata": {
        "id": "JEsIwmEieulr"
      }
    },
    {
      "cell_type": "markdown",
      "source": [
        "2. What is exception handling in Python ?\n",
        "ANS : Exception handling in Python is a way to manage errors that occur during the execution of a program, without crashing it. It lets you \"catch\" and respond to problems like missing files, invalid inputs, or division by zero.\n"
      ],
      "metadata": {
        "id": "c0zZRBeheuGI"
      }
    },
    {
      "cell_type": "markdown",
      "source": [
        "3.  What is the purpose of the finally block in exception handling ?\n",
        "ANS : Purpose of the finally Block in Exception Handling\n",
        "The finally block is used to define clean-up code that runs no matter what, whether an exception occurred or not.\n",
        "\n",
        "Key Points:\n",
        "It always executes after the try and except blocks.\n",
        "Used for tasks like:\n",
        "Closing files\n",
        "Releasing resources\n",
        "Disconnecting from a database\n"
      ],
      "metadata": {
        "id": "bejKLH4qfYvo"
      }
    },
    {
      "cell_type": "markdown",
      "source": [
        "4.  What is logging in Python ?\n",
        "ANS : Logging in Python is a way to track events that happen while your code runs. It helps you monitor, debug, and understand what your program is doing, especially in larger or production systems.\n",
        "Instead of using print(), the logging module gives you more control and flexibility.\n"
      ],
      "metadata": {
        "id": "VOIebMIKfnIw"
      }
    },
    {
      "cell_type": "markdown",
      "source": [
        "5.  What is the significance of the __del__ method in Python ?\n",
        "ANS : he __del__ method in Python is known as a destructor. It is called automatically when an object is about to be destroyed, typically when there are no more references to it.\n"
      ],
      "metadata": {
        "id": "qTOk1ztafxoK"
      }
    },
    {
      "cell_type": "markdown",
      "source": [
        "6.  What is the difference between import and from ... import in Python ?\n",
        "ANS :  import Statement :\n",
        "Imports the whole module.\n",
        "You must use the module name to access its contents.\n",
        "Example:\n",
        "import math\n",
        "print(math.sqrt(16))  \n",
        "\n",
        "from ... import Statement :\n",
        "Imports specific parts (like functions or variables) from a module.\n",
        "You can use them directly without the module name.\n",
        "Example:\n",
        "from math import sqrt\n",
        "print(sqrt(16))"
      ],
      "metadata": {
        "id": "fX6AFV3Uf_ZI"
      }
    },
    {
      "cell_type": "markdown",
      "source": [
        "7.  How can you handle multiple exceptions in Python ?\n",
        "ANS : i. Using multiple except blocks:\n",
        "This approach handles each exception type separately.\n",
        "\n",
        "try:\n",
        "    # Code that might raise exceptions\n",
        "    x = int(input(\"Enter a number: \"))\n",
        "    result = 10 / x\n",
        "except ValueError:\n",
        "    print(\"Invalid input! Please enter a number.\")\n",
        "except ZeroDivisionError:\n",
        "    print(\"Cannot divide by zero.\")\n",
        "2. Catching multiple exceptions in a single block\n",
        "You can group multiple exceptions in a tuple and handle them with the same block of code.\n",
        "\n",
        "try:\n",
        "    x = int(input(\"Enter a number: \"))\n",
        "    result = 10 / x\n",
        "except (ValueError, ZeroDivisionError) as e:\n",
        "    print(f\"An error occurred: {e}\")\n",
        "3. Using a generic except block\n",
        "This catches any exception but should be used cautiously.\n",
        "try:\n",
        "  \n",
        "except Exception as e:\n",
        "    print(f\"Unexpected error: {e}\")\n",
        "\n"
      ],
      "metadata": {
        "id": "MnBoytZNgk1B"
      }
    },
    {
      "cell_type": "markdown",
      "source": [
        "8. What is the purpose of the with statement when handling files in Python ?\n",
        "ANS : The with statement in Python is used to simplify resource management, especially when working with files. Its main purpose is to ensure that resources are properly acquired and released, even if errors occur.\n",
        "\n",
        "When handling files, the with statement:\n",
        "Opens the file and assigns it to a variable.\n",
        "Automatically closes the file when the block under with is exited, regardless of whether an exception was raised."
      ],
      "metadata": {
        "id": "GmoOI6QL5Qay"
      }
    },
    {
      "cell_type": "markdown",
      "source": [
        "9.  What is the difference between multithreading and multiprocessing ?\n",
        "ANS:\n",
        "Multithreading :\n",
        "Definition: Multiple threads run within the same process and share the same memory space.\n",
        "Best for: I/O-bound tasks (e.g., reading files, network operations).\n",
        "Memory: Threads share memory — lightweight.\n",
        "Limitation in Python: Subject to the Global Interpreter Lock (GIL), which prevents multiple threads from executing Python bytecode in parallel.\n",
        "Overhead: Low.\n",
        "\n",
        "Multiprocessing\n",
        "Definition: Runs tasks in separate processes, each with its own memory space.\n",
        "Best for: CPU-bound tasks (e.g., image processing, numerical computations).\n",
        "Memory: Each process has independent memory — heavier on resources.\n",
        "Bypasses GIL: Can truly run in parallel on multiple CPU cores.\n",
        "Overhead: Higher (due to inter-process communication and memory duplication)."
      ],
      "metadata": {
        "id": "eTFSSYMs5xT5"
      }
    },
    {
      "cell_type": "markdown",
      "source": [
        "10. What are the advantages of using logging in a program ?\n",
        "ANS : Advantages of Using Logging:\n",
        "I. Control Over Output :\n",
        "You can set log levels (e.g., DEBUG, INFO, WARNING, ERROR, CRITICAL) to filter messages.\n",
        "Makes it easy to show only relevant information in production vs. development.\n",
        "\n",
        "II. Output to Multiple Destinations :\n",
        "Logs can be written to files, console, remote servers, or syslog — not just printed to screen.\n",
        "\n",
        "III. Persistent Record :\n",
        "Logs can be stored over time, allowing for historical analysis and troubleshooting of past events.\n",
        "\n",
        "IV. Flexible Formatting :\n",
        "You can customize log messages with timestamps, module names, line numbers, etc.\n",
        "\n",
        "V.Thread/Process Safety :\n",
        "The logging module is thread-safe, making it safe for multithreaded or multiprocess applications.\n",
        "\n",
        "VI.Disabling in Production :\n",
        "Logging can be disabled or configured without changing the codebase (unlike print() calls that need to be removed)."
      ],
      "metadata": {
        "id": "y2Kn-uCJ7ZDS"
      }
    },
    {
      "cell_type": "markdown",
      "source": [
        "11.  What is memory management in Python ?\n",
        "ANS : Memory management in Python is the process of automatically allocating and freeing memory to ensure efficient use. It uses reference counting, garbage collection, and a private heap to manage memory for objects. Python handles most of this automatically to simplify programming."
      ],
      "metadata": {
        "id": "hbSgtz1f8DAD"
      }
    },
    {
      "cell_type": "markdown",
      "source": [
        "12.  What are the basic steps involved in exception handling in Python ?\n",
        "ANS : Basic steps in exception handling in Python:\n",
        "Try Block: Write code that might raise an exception inside a try block.\n",
        "Except Block: Handle specific exceptions using one or more except blocks.\n",
        "Else Block (Optional): Run code if no exception occurred.\n",
        "Finally Block (Optional): Run cleanup code that executes no matter what."
      ],
      "metadata": {
        "id": "7g8DQ5g8_JAg"
      }
    },
    {
      "cell_type": "markdown",
      "source": [
        "13 .  Why is memory management important in Python ?\n",
        "ANS :\n",
        "Efficient use of memory – prevents your program from using more memory than needed.\n",
        "Automatic cleanup – unused objects are removed to free up space.\n",
        "Prevents memory leaks – which can slow down or crash programs over time.\n",
        "Better performance – by reusing memory efficiently and avoiding fragmentation.\n",
        "Simplified development – developers don't need to manually allocate or free memory.\n",
        "\n",
        "In short, it helps Python programs run smoothly, reliably, and efficiently."
      ],
      "metadata": {
        "id": "CdS9azn-_ZoV"
      }
    },
    {
      "cell_type": "markdown",
      "source": [
        "14. What is the role of try and except in exception handling ?\n",
        "ANS :\n",
        "Role of try:\n",
        "Wraps code that might raise an exception.\n",
        "If an error occurs, it jumps to the corresponding except block.\n",
        "\n",
        "Role of except:\n",
        "Catches and handles the exception, allowing the program to continue running.\n",
        "Can be specific to an error type (e.g., ZeroDivisionError) or general."
      ],
      "metadata": {
        "id": "C64zFfkk_xD9"
      }
    },
    {
      "cell_type": "markdown",
      "source": [
        "15.  How does Python's garbage collection system work ?\n",
        "ANS :\n",
        "I.  Reference Counting :\n",
        "Every object in Python has a reference count (how many variables point to it).\n",
        "When the reference count drops to zero, the memory is immediately freed.\n",
        "\n",
        "II. Garbage Collector (for Cycles) :\n",
        "If two or more objects reference each other (a reference cycle), reference counting alone can't clean them.\n",
        "Python’s garbage collector (in the gc module) periodically detects and collects these cyclic references.\n",
        "\n",
        "import gc\n",
        "gc.collect()  # Manually triggers garbage collection\n",
        "\n"
      ],
      "metadata": {
        "id": "jHMYSzazAceh"
      }
    },
    {
      "cell_type": "markdown",
      "source": [
        "16.  What is the purpose of the else block in exception handling ?\n",
        "ANS : Purpose of the else block:\n",
        "It allows you to specify normal flow of execution when no errors are encountered.\n",
        "It helps in separating error handling from the regular logic of your program.\n",
        "If no exception occurs, the else block runs and prints the result.\n",
        "If an exception occurs, the program jumps to the except block.\n"
      ],
      "metadata": {
        "id": "B38EBpbKA6z2"
      }
    },
    {
      "cell_type": "markdown",
      "source": [
        "17. What are the common logging levels in Python ?\n",
        "ANS : In Python, the common logging levels are:\n",
        "\n",
        "DEBUG: Detailed information, typically useful for diagnosing problems.\n",
        "\n",
        "INFO: General information about the program's execution.\n",
        "\n",
        "WARNING: Indicates something unexpected happened, but the program is still running as expected.\n",
        "\n",
        "ERROR: An issue that prevents part of the program from working.\n",
        "\n",
        "CRITICAL: A very serious error that might cause the program to stop running."
      ],
      "metadata": {
        "id": "csAHh7KEBQVZ"
      }
    },
    {
      "cell_type": "markdown",
      "source": [
        "18.  What is the difference between os.fork() and multiprocessing in Python ?ANS :\n",
        "os.fork():\n",
        "\n",
        "I. Low-level system call: It creates a new process by duplicating the current process.\n",
        "\n",
        "II. Platform-specific: It works only on Unix-like systems (Linux, macOS).\n",
        "\n",
        "III. No process management: You need to manually manage the processes, including inter-process communication (IPC).\n",
        "\n",
        "IV. Shares memory: The child process gets a copy of the parent process’s memory (using copy-on-write).\n",
        "\n",
        "multiprocessing module:\n",
        "\n",
        "I. High-level API: Provides a more user-friendly way to create and manage processes.\n",
        "\n",
        "II. Cross-platform: Works on both Unix and Windows.\n",
        "\n",
        "III. Process management: Handles process creation, synchronization, and communication between processes more easily.\n",
        "\n",
        "IV. Separate memory space: Each process in multiprocessing has its own memory space, avoiding shared memory issues unless explicitly managed (e.g., using Queue or Pipe)."
      ],
      "metadata": {
        "id": "UR4MybR7CGjZ"
      }
    },
    {
      "cell_type": "markdown",
      "source": [
        "19. What is the importance of closing a file in Python0 ?\n",
        "ANS :\n",
        "\n",
        "Freeing Resources: When a file is opened, the operating system allocates resources (e.g., memory, file handles). Closing the file ensures that these resources are released and can be reused by the system.\n",
        "\n",
        "Saving Data: If the file is opened in write or append mode, closing it ensures that all changes are properly saved to the file. Failing to close the file may result in data not being written correctly or completely.\n",
        "\n",
        "Avoiding File Locks: In some systems, an open file can be locked for exclusive access. Closing the file releases any locks, allowing other processes or programs to access it.\n",
        "\n",
        "Preventing Memory Leaks: If files aren't closed properly, it can lead to memory leaks, where system resources are exhausted over time."
      ],
      "metadata": {
        "id": "j8q1VKJHDHG_"
      }
    },
    {
      "cell_type": "markdown",
      "source": [
        "20. What is the difference between file.read() and file.readline() in Python ?\n",
        "ANS :\n",
        " file.read():\n",
        "Reads the entire contents of the file at once and returns it as a single string.\n",
        "If you don't specify a size, it will read the whole file into memory.\n",
        "Useful when you want to process the entire file at once.\n",
        "file.read(): Reads the entire file.\n",
        "EX: with open('file.txt', 'r') as file:\n",
        "    content = file.read()\n",
        "\n",
        "file.readline():\n",
        "Reads one line from the file at a time and returns it as a string, including the newline character (\\n).\n",
        "You can repeatedly call readline() to read the file line by line.\n",
        "Useful for processing large files line by line without loading the whole file into memory at once.\n",
        "file.readline(): Reads one line at a time.\n",
        "EX: with open('file.txt', 'r') as file:\n",
        "    line = file.readline()\n",
        "    while line:\n",
        "        print(line, end='')\n",
        "        line = file.readline()\n"
      ],
      "metadata": {
        "id": "Qo0ifyiDDqv_"
      }
    },
    {
      "cell_type": "markdown",
      "source": [
        "21. What is the logging module in Python used for ?\n",
        "ANS : The logging module in Python is used for tracking and recording events, errors, and other runtime information during the execution of a program. It provides a flexible framework for managing log messages, which can help developers monitor the application’s behavior, debug issues, and maintain a record of activities."
      ],
      "metadata": {
        "id": "66te8SAVE7TF"
      }
    },
    {
      "cell_type": "markdown",
      "source": [
        "22. What is the os module in Python used for in file handling ?\n",
        "ANS :\n",
        "\n",
        "Create/Delete Files & Directories: os.mkdir(), os.makedirs(), os.remove(), os.rmdir(), os.removedirs()\n",
        "\n",
        "Check File/Directory: os.path.exists(), os.path.isfile(), os.path.isdir()\n",
        "\n",
        "Rename/Move Files: os.rename(), os.replace()\n",
        "\n",
        "List Files in Directory: os.listdir()\n",
        "\n",
        "Change Directory: os.chdir()\n",
        "\n",
        "Path Operations: os.path.join(), os.path.basename(), os.path.dirname()\n",
        "\n",
        "Get File Info: os.stat(), os.path.getsize()"
      ],
      "metadata": {
        "id": "HfIuboE-FHwz"
      }
    },
    {
      "cell_type": "markdown",
      "source": [
        "23. What are the challenges associated with memory management in Python ?\n",
        "ANS : Garbage Collection Overhead: Python uses automatic garbage collection, which may occasionally cause performance issues or delays due to background memory cleanup.\n",
        "\n",
        "Reference Cycles: Objects referencing each other can create cycles that are not easily detected by simple reference counting, requiring more complex garbage collection.\n",
        "\n",
        "Memory Leaks: Poorly managed references (e.g., keeping objects alive unintentionally) can prevent memory from being freed, leading to leaks.\n",
        "\n",
        "Global Interpreter Lock (GIL): Limits true parallel execution in multi-threaded programs, affecting memory efficiency in CPU-bound tasks.\n",
        "\n",
        "High Memory Usage: Python’s data structures (like lists, dictionaries) are flexible but can be memory-heavy compared to lower-level languages.\n",
        "\n",
        "Fragmentation: Long-running applications may suffer from memory fragmentation, where free memory is scattered in small chunks.\n",
        "\n",
        "Manual Management Complexity: While Python automates memory management, fine-tuning memory use for large or performance-critical apps still requires manual effort.\n"
      ],
      "metadata": {
        "id": "5oN0toyrKN9F"
      }
    },
    {
      "cell_type": "markdown",
      "source": [
        "24. How do you raise an exception manually in Python ?\n",
        "ANS :\n",
        "You can raise an exception manually using the raise statement.\n",
        "\n",
        "Syntax :raise ExceptionType(\"Error message\")\n",
        "Example: raise ValueError(\"Invalid input provided\")\n"
      ],
      "metadata": {
        "id": "MbbLyr_JKq_J"
      }
    },
    {
      "cell_type": "markdown",
      "source": [
        "25. Why is it important to use multithreading in certain applications?\n",
        "ANS : Improves Performance in I/O-Bound Tasks:\n",
        "\n",
        "Multithreading allows concurrent execution during I/O operations (like reading files or network calls), making the program more responsive.\n",
        "\n",
        "Better Resource Utilization:\n",
        "\n",
        "While one thread waits (e.g., for user input), others can continue processing, efficiently using CPU time.\n",
        "\n",
        "Enhanced Responsiveness:\n",
        "\n",
        "In GUI or real-time applications, multithreading keeps the interface responsive while background tasks run.\n",
        "\n",
        "Parallel Task Execution:\n",
        "\n",
        "Allows running multiple operations simultaneously, like downloading multiple files or handling multiple client requests.\n",
        "\n",
        "Scalability:\n",
        "\n",
        "Suitable for applications like web servers where handling multiple user requests concurrently is crucial."
      ],
      "metadata": {
        "id": "4S2BdtIWLHLi"
      }
    },
    {
      "cell_type": "code",
      "source": [
        "# How can you open a file for writing in Python and write a string to it ?\n",
        "\n",
        "\n",
        "with open('example.txt', 'w') as file:\n",
        "    file.write('Hello, world!')\n"
      ],
      "metadata": {
        "id": "9UB-ZmT8jTow"
      },
      "execution_count": 2,
      "outputs": []
    },
    {
      "cell_type": "code",
      "source": [
        "# Write a Python program to read the contents of a file and print each line ?\n",
        "\n",
        "with open(\"example.txt\", \"r\") as file:\n",
        "\n",
        "    for line in file:\n",
        "        print(line.strip())\n",
        "\n",
        "\n"
      ],
      "metadata": {
        "colab": {
          "base_uri": "https://localhost:8080/"
        },
        "id": "onzmw_uGkxBT",
        "outputId": "0cef714d-e83b-452e-c7d5-085f6f37520b"
      },
      "execution_count": 4,
      "outputs": [
        {
          "output_type": "stream",
          "name": "stdout",
          "text": [
            "Hello, world!\n"
          ]
        }
      ]
    },
    {
      "cell_type": "code",
      "source": [
        "# How would you handle a case where the file doesn't exist while trying to open it for reading ?\n",
        "\n",
        "try:\n",
        "    with open(\"nonexistent_file.txt\", \"r\") as file:\n",
        "        content = file.read()\n",
        "except FileNotFoundError:\n",
        "    print(\"Error: The file does not exist.\")\n"
      ],
      "metadata": {
        "colab": {
          "base_uri": "https://localhost:8080/"
        },
        "id": "QzDVsrdxlSuq",
        "outputId": "10eecdcf-6e2f-4af3-f2a9-bb73292492d6"
      },
      "execution_count": 15,
      "outputs": [
        {
          "output_type": "stream",
          "name": "stdout",
          "text": [
            "Error: The file does not exist.\n"
          ]
        }
      ]
    },
    {
      "cell_type": "code",
      "source": [
        "#  Write a Python script that reads from one file and writes its content to another file\n",
        "\n",
        "# Read from one file and write to another\n",
        "try:\n",
        "    with open(\"source.txt\", \"r\") as source_file:\n",
        "        content = source_file.read()\n",
        "\n",
        "    with open(\"destination.txt\", \"w\") as dest_file:\n",
        "        dest_file.write(content)\n",
        "\n",
        "    print(\"File copied successfully.\")\n",
        "\n",
        "except FileNotFoundError:\n",
        "    print(\"Error: source.txt file not found.\")\n",
        "\n",
        "\n",
        "\n",
        "\n",
        "\n",
        "\n",
        "\n",
        "\n"
      ],
      "metadata": {
        "colab": {
          "base_uri": "https://localhost:8080/"
        },
        "id": "HgIHGoxpltXJ",
        "outputId": "e09b5851-0edb-45c8-8976-257eb174c1d5"
      },
      "execution_count": 25,
      "outputs": [
        {
          "output_type": "stream",
          "name": "stdout",
          "text": [
            "Error: source.txt file not found.\n"
          ]
        }
      ]
    },
    {
      "cell_type": "code",
      "source": [
        "# How would you catch and handle division by zero error in Python .\n",
        "try:\n",
        "    numerator = 10\n",
        "    denominator = 0\n",
        "    result = numerator / denominator\n",
        "    print(\"Result:\", result)\n",
        "except ZeroDivisionError:\n",
        "    print(\"Error: Cannot divide by zero.\")\n"
      ],
      "metadata": {
        "colab": {
          "base_uri": "https://localhost:8080/"
        },
        "id": "2KXX4mAnnQjO",
        "outputId": "0013fff8-3d4a-439a-a2fd-94fac9dd6e05"
      },
      "execution_count": 26,
      "outputs": [
        {
          "output_type": "stream",
          "name": "stdout",
          "text": [
            "Error: Cannot divide by zero.\n"
          ]
        }
      ]
    },
    {
      "cell_type": "code",
      "source": [
        "#Write a Python program that logs an error message to a log file when a division by zero exception occurs ?\n",
        "import logging\n",
        "\n",
        "# Set up the logging configuration\n",
        "logging.basicConfig(filename='error_log.txt', level=logging.ERROR,\n",
        "                    format='%(asctime)s - %(levelname)s - %(message)s')\n",
        "\n",
        "def divide_numbers(numerator, denominator):\n",
        "    try:\n",
        "        result = numerator / denominator\n",
        "        return result\n",
        "    except ZeroDivisionError as e:\n",
        "        logging.error(\"Attempted to divide by zero.\")\n",
        "        return \"Error: Cannot divide by zero.\"\n",
        "\n",
        "# Example usage\n",
        "numerator = 10\n",
        "denominator = 0\n",
        "result = divide_numbers(numerator, denominator)\n",
        "print(result)\n"
      ],
      "metadata": {
        "colab": {
          "base_uri": "https://localhost:8080/"
        },
        "id": "8huqjxPHnb24",
        "outputId": "5fa7ab6b-40b7-4e4c-9a8a-b10e07b8e8a1"
      },
      "execution_count": 27,
      "outputs": [
        {
          "output_type": "stream",
          "name": "stderr",
          "text": [
            "ERROR:root:Attempted to divide by zero.\n"
          ]
        },
        {
          "output_type": "stream",
          "name": "stdout",
          "text": [
            "Error: Cannot divide by zero.\n"
          ]
        }
      ]
    },
    {
      "cell_type": "code",
      "source": [
        "# How do you log information at different levels (INFO, ERROR, WARNING) in Python using the logging module\n",
        "import logging\n",
        "\n",
        "# Set up the logging configuration\n",
        "logging.basicConfig(level=logging.DEBUG,  # Set the global logging level to DEBUG\n",
        "                    format='%(asctime)s - %(levelname)s - %(message)s',\n",
        "                    filename='app_log.txt',  # Log messages will be written to this file\n",
        "                    filemode='w')  # 'w' mode will overwrite the log file each time\n",
        "\n",
        "# Logging at different levels\n",
        "logging.debug(\"This is a debug message. Useful for diagnosing problems.\")\n",
        "logging.info(\"This is an info message. General program progress or status.\")\n",
        "logging.warning(\"This is a warning message. Something unexpected happened.\")\n",
        "logging.error(\"This is an error message. An issue has occurred.\")\n",
        "logging.critical(\"This is a critical message. The program might terminate.\")\n",
        "\n",
        "# Example output in the console (if the level is set to DEBUG):\n"
      ],
      "metadata": {
        "colab": {
          "base_uri": "https://localhost:8080/"
        },
        "id": "VGudvnKlnnEM",
        "outputId": "1914d7b8-2f0f-4806-dfcb-02918d18cce3"
      },
      "execution_count": 28,
      "outputs": [
        {
          "output_type": "stream",
          "name": "stderr",
          "text": [
            "WARNING:root:This is a warning message. Something unexpected happened.\n",
            "ERROR:root:This is an error message. An issue has occurred.\n",
            "CRITICAL:root:This is a critical message. The program might terminate.\n"
          ]
        }
      ]
    },
    {
      "cell_type": "code",
      "source": [
        "#Write a program to handle a file opening error using exception handling\n",
        "# Program to handle file opening error using exception handling\n",
        "\n",
        "try:\n",
        "    file = open(\"data.txt\", \"r\")  # Try to open a file that may not exist\n",
        "    content = file.read()\n",
        "    print(\"File content:\\n\", content)\n",
        "    file.close()\n",
        "except FileNotFoundError:\n",
        "    print(\"Error: The file 'data.txt' was not found.\")\n",
        "except IOError:\n",
        "    print(\"Error: An I/O error occurred while opening the file.\")\n",
        "\n",
        "\n",
        "\n",
        "\n"
      ],
      "metadata": {
        "colab": {
          "base_uri": "https://localhost:8080/"
        },
        "id": "35F3-kBpn3SP",
        "outputId": "e7c0eb50-28be-4349-9e67-15bc56f8be6d"
      },
      "execution_count": 6,
      "outputs": [
        {
          "output_type": "stream",
          "name": "stdout",
          "text": [
            "Error: The file 'data.txt' was not found.\n"
          ]
        }
      ]
    },
    {
      "cell_type": "code",
      "source": [
        "# How can you read a file line by line and store its content in a list in Python\n",
        "\n",
        "import os\n",
        "\n",
        "# Get the current working directory\n",
        "current_directory = os.getcwd()\n",
        "\n",
        "# Construct the full file path\n",
        "file_path = os.path.join(current_directory, \"data.txt\")\n",
        "\n",
        "try:\n",
        "    with open(file_path, \"r\") as file:  # Use file_path instead of just \"data.txt\"\n",
        "        lines = file.readlines()\n",
        "\n",
        "    for line in lines:\n",
        "        print(line.strip())\n",
        "except FileNotFoundError:\n",
        "    print(f\"Error: The file '{file_path}' was not found.\")\n"
      ],
      "metadata": {
        "colab": {
          "base_uri": "https://localhost:8080/"
        },
        "id": "Ti1gTIgDit3g",
        "outputId": "82d72503-caf0-4c63-c61d-1770098bb26b"
      },
      "execution_count": 8,
      "outputs": [
        {
          "output_type": "stream",
          "name": "stdout",
          "text": [
            "Error: The file '/content/data.txt' was not found.\n"
          ]
        }
      ]
    },
    {
      "cell_type": "code",
      "source": [
        "# How can you append data to an existing file in Python\n",
        "\n",
        "\n",
        "data_to_append = \"This is new data to be appended.\\n\"\n",
        "file_path = \"my_file.txt\"\n",
        "\n",
        "try:\n",
        "    with open(file_path, \"a\") as file: # Open in 'a' mode for appending\n",
        "        file.write(data_to_append)\n",
        "    print(f\"Data appended to {file_path} successfully.\")\n",
        "except FileNotFoundError:\n",
        "    print(f\"Error: The file '{file_path}' was not found.\")\n",
        "except IOError:\n",
        "    print(\"Error: An I/O error occurred while writing to the file.\")"
      ],
      "metadata": {
        "colab": {
          "base_uri": "https://localhost:8080/"
        },
        "id": "VLCn-TUYjXzE",
        "outputId": "e04a2b10-b531-4dd0-b01c-97752d7725f7"
      },
      "execution_count": 9,
      "outputs": [
        {
          "output_type": "stream",
          "name": "stdout",
          "text": [
            "Data appended to my_file.txt successfully.\n"
          ]
        }
      ]
    },
    {
      "cell_type": "code",
      "source": [
        "#Write a Python program that uses a try-except block to handle an error when attempting to access a\n",
        "#dictionary key that doesn't exist\n",
        "# Python program to handle a KeyError\n",
        "\n",
        "my_dict = {\"apple\": 1, \"banana\": 2, \"orange\": 3}\n",
        "\n",
        "key_to_access = \"grape\"  # This key doesn't exist in the dictionary\n",
        "\n",
        "try:\n",
        "    value = my_dict[key_to_access]\n",
        "    print(f\"The value for key '{key_to_access}' is: {value}\")\n",
        "except KeyError:\n",
        "    print(f\"Error: The key '{key_to_access}' does not exist in the dictionary.\")\n"
      ],
      "metadata": {
        "colab": {
          "base_uri": "https://localhost:8080/"
        },
        "id": "_vJaOHfdjmnp",
        "outputId": "a78ea34d-20f2-4c5d-ff9d-48827af2d7ad"
      },
      "execution_count": 10,
      "outputs": [
        {
          "output_type": "stream",
          "name": "stdout",
          "text": [
            "Error: The key 'grape' does not exist in the dictionary.\n"
          ]
        }
      ]
    },
    {
      "cell_type": "code",
      "source": [
        "# Write a program that demonstrates using multiple except blocks to handle different types of exceptions\n",
        "\n",
        "\n",
        "try:\n",
        "    # Code that might raise exceptions\n",
        "    x = int(input(\"Enter a number: \"))\n",
        "    result = 10 / x\n",
        "    print(\"Result:\", result)\n",
        "\n",
        "except ValueError:\n",
        "    # Handle ValueError (e.g., when the user enters non-numeric input)\n",
        "    print(\"Invalid input! Please enter a number.\")\n",
        "\n",
        "except ZeroDivisionError:\n",
        "    # Handle ZeroDivisionError (when dividing by zero)\n",
        "    print(\"Cannot divide by zero.\")\n",
        "\n",
        "except Exception as e:\n",
        "    # Handle other unexpected exceptions (using a generic except block)\n",
        "    print(f\"An unexpected error occurred: {e}\")\n",
        "\n",
        "print(\"Program execution continues...\")\n",
        "\n"
      ],
      "metadata": {
        "colab": {
          "base_uri": "https://localhost:8080/"
        },
        "id": "EiLTKaLxj-mf",
        "outputId": "6bf310fc-7bac-4845-c3e3-542172c708dc"
      },
      "execution_count": 11,
      "outputs": [
        {
          "output_type": "stream",
          "name": "stdout",
          "text": [
            "Enter a number: 20\n",
            "Result: 0.5\n",
            "Program execution continues...\n"
          ]
        }
      ]
    },
    {
      "cell_type": "code",
      "source": [
        "#How would you check if a file exists before attempting to read it in Python\n",
        "import os\n",
        "\n",
        "file_path = \"my_file.txt\"  # Replace with the actual file path\n",
        "\n",
        "if os.path.exists(file_path):\n",
        "    # The file exists, so you can safely open and read it\n",
        "    with open(file_path, \"r\") as file:\n",
        "        # Process the file content\n",
        "        content = file.read()\n",
        "        print(content)\n",
        "else:\n",
        "    print(f\"Error: The file '{file_path}' does not exist.\")\n"
      ],
      "metadata": {
        "colab": {
          "base_uri": "https://localhost:8080/"
        },
        "id": "Vh_7INU6lb62",
        "outputId": "9b40780c-bb37-4009-cd84-8da9d42164bf"
      },
      "execution_count": 12,
      "outputs": [
        {
          "output_type": "stream",
          "name": "stdout",
          "text": [
            "This is new data to be appended.\n",
            "\n"
          ]
        }
      ]
    },
    {
      "cell_type": "code",
      "source": [
        "# Write a program that uses the logging module to log both informational and error messages\n",
        "import logging\n",
        "\n",
        "# Configure the logging settings\n",
        "logging.basicConfig(\n",
        "    filename='app.log',  # Specify the log file name\n",
        "    level=logging.DEBUG,  # Set the minimum logging level (DEBUG, INFO, WARNING, ERROR, CRITICAL)\n",
        "    format='%(asctime)s - %(levelname)s - %(message)s'  # Define the log message format\n",
        ")\n",
        "\n",
        "# Log an informational message\n",
        "logging.info('Program started successfully.')\n",
        "\n",
        "try:\n",
        "    # Some code that might raise an exception\n",
        "    result = 10 / 0  # This will cause a ZeroDivisionError\n",
        "except ZeroDivisionError:\n",
        "    # Log the error\n",
        "    logging.error('Division by zero error occurred.', exc_info=True)  # exc_info=True includes traceback information\n",
        "\n",
        "# Log another informational message\n",
        "logging.info('Program completed.')"
      ],
      "metadata": {
        "colab": {
          "base_uri": "https://localhost:8080/"
        },
        "id": "b52xVsa_loZD",
        "outputId": "438f1ec9-ff1b-4a74-b81c-a36b6a7c81b3"
      },
      "execution_count": 13,
      "outputs": [
        {
          "output_type": "stream",
          "name": "stderr",
          "text": [
            "ERROR:root:Division by zero error occurred.\n",
            "Traceback (most recent call last):\n",
            "  File \"<ipython-input-13-9f4ce37d564e>\", line 16, in <cell line: 0>\n",
            "    result = 10 / 0  # This will cause a ZeroDivisionError\n",
            "             ~~~^~~\n",
            "ZeroDivisionError: division by zero\n"
          ]
        }
      ]
    },
    {
      "cell_type": "code",
      "source": [
        "#Write a Python program that prints the content of a file and handles the case when the file is empty\n",
        "def print_file_content(file_path):\n",
        "    \"\"\"Prints the content of a file and handles the case when the file is empty.\n",
        "\n",
        "    Args:\n",
        "        file_path (str): The path to the file.\n",
        "    \"\"\"\n",
        "    try:\n",
        "        with open(file_path, 'r') as file:\n",
        "            content = file.read()\n",
        "            if content:  # Check if the content is not empty\n",
        "                print(content)\n",
        "            else:\n",
        "                print(f\"The file '{file_path}' is empty.\")\n",
        "    except FileNotFoundError:\n",
        "        print(f\"Error: The file '{file_path}' was not found.\")\n",
        "    except IOError:\n",
        "        print(f\"Error: An I/O error occurred while reading the file '{file_path}'.\")\n",
        "\n",
        "\n",
        "# Example usage:\n",
        "file_path = \"my_file.txt\"  # Replace with the actual file path\n",
        "print_file_content(file_path)"
      ],
      "metadata": {
        "colab": {
          "base_uri": "https://localhost:8080/"
        },
        "id": "ZamW-p9Rl4GL",
        "outputId": "1d6b0048-0f4f-4075-f0e9-f94895c4119f"
      },
      "execution_count": 14,
      "outputs": [
        {
          "output_type": "stream",
          "name": "stdout",
          "text": [
            "This is new data to be appended.\n",
            "\n"
          ]
        }
      ]
    },
    {
      "cell_type": "code",
      "source": [
        "# Write a Python program to create and write a list of numbers to a file, one number per line.\n",
        "def write_numbers_to_file(numbers, file_path):\n",
        "    \"\"\"Writes a list of numbers to a file, one number per line.\n",
        "\n",
        "    Args:\n",
        "        numbers (list): The list of numbers to write.\n",
        "        file_path (str): The path to the file.\n",
        "    \"\"\"\n",
        "    try:\n",
        "        with open(file_path, 'w') as file:\n",
        "            for number in numbers:\n",
        "                file.write(str(number) + '\\n')  # Convert number to string and add newline\n",
        "        print(f\"Numbers written to '{file_path}' successfully.\")\n",
        "    except IOError:\n",
        "        print(f\"Error: An I/O error occurred while writing to '{file_path}'.\")\n",
        "\n",
        "\n",
        "# Example usage:\n",
        "numbers = [1, 2, 3, 4, 5]\n",
        "file_path = 'numbers.txt'\n",
        "write_numbers_to_file(numbers, file_path)\n"
      ],
      "metadata": {
        "colab": {
          "base_uri": "https://localhost:8080/"
        },
        "id": "KXLz8cWbmN_f",
        "outputId": "2154eb6d-9419-4b41-c7aa-77e797f1a669"
      },
      "execution_count": 15,
      "outputs": [
        {
          "output_type": "stream",
          "name": "stdout",
          "text": [
            "Numbers written to 'numbers.txt' successfully.\n"
          ]
        }
      ]
    },
    {
      "cell_type": "code",
      "source": [
        "# How would you implement a basic logging setup that logs to a file with rotation after 1MB\n",
        "import logging\n",
        "from logging.handlers import RotatingFileHandler\n",
        "\n",
        "# Create a logger\n",
        "logger = logging.getLogger(__name__)\n",
        "logger.setLevel(logging.DEBUG)  # Set the desired logging level\n",
        "\n",
        "# Create a RotatingFileHandler\n",
        "handler = RotatingFileHandler('my_log.log', maxBytes=1024 * 1024, backupCount=5)  # 1MB, 5 backups\n",
        "handler.setLevel(logging.DEBUG)\n",
        "\n",
        "# Create a formatter and add it to the handler\n",
        "formatter = logging.Formatter('%(asctime)s - %(levelname)s - %(message)s')\n",
        "handler.setFormatter(formatter)\n",
        "\n",
        "# Add the handler to the logger\n",
        "logger.addHandler(handler)\n",
        "\n",
        "# Now you can use the logger to log messages\n",
        "logger.debug('This is a debug message.')\n",
        "logger.info('This is an info message.')\n",
        "logger.warning('This is a warning message.')\n",
        "logger.error('This is an error message.')\n",
        "logger.critical('This is a critical message.')"
      ],
      "metadata": {
        "colab": {
          "base_uri": "https://localhost:8080/"
        },
        "id": "EhfY2qMWm7_t",
        "outputId": "72b6e32a-9e2e-4f5d-b378-237c0735dcf5"
      },
      "execution_count": 16,
      "outputs": [
        {
          "output_type": "stream",
          "name": "stderr",
          "text": [
            "DEBUG:__main__:This is a debug message.\n",
            "INFO:__main__:This is an info message.\n",
            "WARNING:__main__:This is a warning message.\n",
            "ERROR:__main__:This is an error message.\n",
            "CRITICAL:__main__:This is a critical message.\n"
          ]
        }
      ]
    },
    {
      "cell_type": "code",
      "source": [
        "#Write a program that handles both IndexError and KeyError using a try-except block.\n",
        "# Program to handle IndexError and KeyError\n",
        "\n",
        "def access_data():\n",
        "    my_list = [10, 20, 30]\n",
        "    my_dict = {\"a\": 1, \"b\": 2, \"c\": 3}\n",
        "\n",
        "    try:\n",
        "        # Try accessing an index that may be out of range\n",
        "        print(\"List element at index 5:\", my_list[5])\n",
        "\n",
        "        # Try accessing a dictionary key that may not exist\n",
        "        print(\"Value for key 'z':\", my_dict[\"z\"])\n",
        "\n",
        "    except IndexError:\n",
        "        print(\"Error: List index is out of range.\")\n",
        "    except KeyError:\n",
        "        print(\"Error: Dictionary key not found.\")\n",
        "\n",
        "# Run the function\n",
        "access_data()\n",
        "\n"
      ],
      "metadata": {
        "colab": {
          "base_uri": "https://localhost:8080/"
        },
        "id": "4G8UNnDknPFP",
        "outputId": "16c80a39-35a5-4122-dc0b-941ee2366d59"
      },
      "execution_count": 17,
      "outputs": [
        {
          "output_type": "stream",
          "name": "stdout",
          "text": [
            "Error: List index is out of range.\n"
          ]
        }
      ]
    },
    {
      "cell_type": "code",
      "source": [
        "#How would you open a file and read its contents using a context manager in Python\n",
        "def read_file_contents(file_path):\n",
        "    \"\"\"Opens a file, reads its content using a context manager, and returns the content as a string.\n",
        "\n",
        "    Args:\n",
        "        file_path (str): The path to the file.\n",
        "\n",
        "    Returns:\n",
        "        str: The content of the file as a string.\n",
        "    \"\"\"\n",
        "    try:\n",
        "        with open(file_path, 'r') as file:  # Use 'with' to open the file in read mode\n",
        "            content = file.read()  # Read the entire content of the file\n",
        "            return content\n",
        "    except FileNotFoundError:\n",
        "        print(f\"Error: The file '{file_path}' was not found.\")\n",
        "        return None  # Or raise the exception if you want\n",
        "    except IOError:\n",
        "        print(f\"Error: An I/O error occurred while reading the file '{file_path}'.\")\n",
        "        return None  # Or raise the exception if you want\n",
        "\n",
        "\n",
        "# Example usage:\n",
        "file_path = \"my_file.txt\"  # Replace with the actual file path\n",
        "content = read_file_contents(file_path)\n",
        "\n",
        "if content:\n",
        "    print(\"File content:\\n\", content)\n"
      ],
      "metadata": {
        "colab": {
          "base_uri": "https://localhost:8080/"
        },
        "id": "VAL73at6nflU",
        "outputId": "5a74a8bb-bdd1-40be-f599-1a7c4da4ab9b"
      },
      "execution_count": 18,
      "outputs": [
        {
          "output_type": "stream",
          "name": "stdout",
          "text": [
            "File content:\n",
            " This is new data to be appended.\n",
            "\n"
          ]
        }
      ]
    },
    {
      "cell_type": "code",
      "source": [
        "#Write a Python program that reads a file and prints the number of occurrences of a specific word\n",
        "import re\n",
        "\n",
        "def count_word_occurrences(file_path, word):\n",
        "    \"\"\"Reads a file and prints the number of occurrences of a specific word.\n",
        "\n",
        "    Args:\n",
        "        file_path (str): The path to the file.\n",
        "        word (str): The word to count.\n",
        "    \"\"\"\n",
        "    try:\n",
        "        with open(file_path, 'r') as file:\n",
        "            content = file.read()\n",
        "            # Use regular expression for a more robust word count\n",
        "            occurrences = len(re.findall(r'\\b' + word + r'\\b', content, re.IGNORECASE))\n",
        "            print(f\"The word '{word}' appears {occurrences} times in the file.\")\n",
        "    except FileNotFoundError:\n",
        "        print(f\"Error: The file '{file_path}' was not found.\")\n",
        "    except IOError:\n",
        "        print(f\"Error: An I/O error occurred while reading the file '{file_path}'.\")\n",
        "\n",
        "\n",
        "# Example usage:\n",
        "file_path = \"my_file.txt\"  # Replace with the actual file path\n",
        "word_to_count = \"example\"  # Replace with the word you want to count\n",
        "count_word_occurrences(file_path, word_to_count)\n"
      ],
      "metadata": {
        "colab": {
          "base_uri": "https://localhost:8080/"
        },
        "id": "4GCoMh_TnxA9",
        "outputId": "a71d8d52-2df6-41bf-d879-1f4941e04d40"
      },
      "execution_count": 19,
      "outputs": [
        {
          "output_type": "stream",
          "name": "stdout",
          "text": [
            "The word 'example' appears 0 times in the file.\n"
          ]
        }
      ]
    },
    {
      "cell_type": "code",
      "source": [
        "# How can you check if a file is empty before attempting to read its contents\n",
        "import os\n",
        "\n",
        "def is_file_empty(file_path):\n",
        "    \"\"\"Checks if a file is empty.\n",
        "\n",
        "    Args:\n",
        "        file_path (str): The path to the file.\n",
        "\n",
        "    Returns:\n",
        "        bool: True if the file is empty, False otherwise.\n",
        "    \"\"\"\n",
        "    try:\n",
        "        return os.stat(file_path).st_size == 0  # Check if file size is 0\n",
        "    except FileNotFoundError:\n",
        "        print(f\"Error: The file '{file_path}' was not found.\")\n",
        "        return True  # Consider an absent file as empty\n",
        "    except OSError:\n",
        "        print(f\"Error: An error occurred while accessing the file '{file_path}'.\")\n",
        "        return True  # Consider an inaccessible file as empty\n",
        "\n",
        "# Example usage:\n",
        "file_path = \"my_file.txt\"  # Replace with the actual file path\n",
        "\n",
        "if is_file_empty(file_path):\n",
        "    print(f\"The file '{file_path}' is empty.\")\n",
        "else:\n",
        "    # Proceed with reading the file\n",
        "    with open(file_path, 'r') as file:\n",
        "        content = file.read()\n",
        "        # ... process the content ...\n"
      ],
      "metadata": {
        "id": "upa8iV81itgK"
      },
      "execution_count": null,
      "outputs": []
    },
    {
      "cell_type": "code",
      "source": [
        "#Write a Python program that writes to a log file when an error occurs during file handling\n",
        "import logging\n",
        "\n",
        "def process_file(file_path):\n",
        "    \"\"\"Processes a file and logs errors to a log file.\n",
        "\n",
        "    Args:\n",
        "        file_path (str): The path to the file.\n",
        "    \"\"\"\n",
        "    # Configure the logging settings\n",
        "    logging.basicConfig(filename='file_errors.log', level=logging.ERROR,\n",
        "                        format='%(asctime)s - %(levelname)s - %(message)s')\n",
        "\n",
        "    try:\n",
        "        with open(file_path, 'r') as file:\n",
        "            # Process the file content here\n",
        "            content = file.read()\n",
        "            # ... (your file processing logic) ...\n",
        "    except FileNotFoundError:\n",
        "        logging.error(f\"File not found: {file_path}\", exc_info=True)\n",
        "    except IOError:\n",
        "        logging.error(f\"I/O error occurred while processing file: {file_path}\", exc_info=True)\n",
        "    except Exception as e:\n",
        "        logging.error(f\"An unexpected error occurred: {e}\", exc_info=True)\n",
        "\n",
        "# Example usage:\n",
        "file_path = \"my_file.txt\"  # Replace with the actual file path\n",
        "process_file(file_path)\n"
      ],
      "metadata": {
        "id": "-Zs91jExoyC2"
      },
      "execution_count": 26,
      "outputs": []
    }
  ]
}